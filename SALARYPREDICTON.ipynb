{
  "nbformat": 4,
  "nbformat_minor": 0,
  "metadata": {
    "colab": {
      "provenance": []
    },
    "kernelspec": {
      "name": "python3",
      "display_name": "Python 3"
    },
    "language_info": {
      "name": "python"
    }
  },
  "cells": [
    {
      "cell_type": "code",
      "execution_count": null,
      "metadata": {
        "id": "6guQmRgJEddE"
      },
      "outputs": [],
      "source": [
        "from google.colab import drive"
      ]
    },
    {
      "cell_type": "code",
      "source": [
        "drive.mount('/content/drive')"
      ],
      "metadata": {
        "id": "pFpqt2BWFLD_"
      },
      "execution_count": null,
      "outputs": []
    },
    {
      "cell_type": "code",
      "source": [
        "import pandas as pd\n",
        "import numpy as np\n",
        "import os\n",
        "import joblib\n",
        "\n",
        "from sklearn.model_selection import train_test_split\n",
        "from sklearn.preprocessing import OrdinalEncoder, StandardScaler\n",
        "from sklearn.neighbors import KNeighborsRegressor\n",
        "from sklearn.metrics import mean_absolute_error, r2_score\n",
        "\n",
        "# 1. Load Data\n",
        "df = pd.read_csv('/content/drive/MyDrive/MachineLearning/Salary_Predict/Salary_Data.csv')\n",
        "\n",
        "# 2. Drop rows with critical NaNs\n",
        "df.dropna(subset=[\"Gender\", \"Education Level\", \"Job Title\", \"Salary\"], inplace=True)\n",
        "\n",
        "# 3. Standardize Education Level\n",
        "education_mapping = {\n",
        "    \"phD\": \"PhD\",\n",
        "    \"Ph.D\": \"PhD\",\n",
        "    \"Master's Degree\": \"Master's\",\n",
        "    \"Bachelor's Degree\": \"Bachelor's\"\n",
        "}\n",
        "df[\"Education Level\"] = df[\"Education Level\"].replace(education_mapping)\n",
        "\n",
        "# 4. Ordinal Encode Education\n",
        "edu_encoder = OrdinalEncoder(categories=[[\"High School\", \"Bachelor's\", \"Master's\", \"PhD\"]])\n",
        "df[[\"Education Level\"]] = edu_encoder.fit_transform(df[[\"Education Level\"]])\n",
        "\n",
        "# 5. Binary Encode Gender\n",
        "df[\"Gender\"] = df[\"Gender\"].map({\"Male\": 1, \"Female\": 0})\n",
        "\n",
        "# 6. Save job titles\n",
        "job_titles = df[\"Job Title\"].dropna().unique().tolist()\n",
        "os.makedirs(\"Models\", exist_ok=True)\n",
        "joblib.dump(job_titles, \"Models/SP_job_titles.pkl\")\n",
        "\n",
        "# 7. One-hot Encode Job Titles\n",
        "df = pd.get_dummies(df, columns=[\"Job Title\"], drop_first=True)\n",
        "\n",
        "# 8. Drop remaining NaNs if any (backup check)\n",
        "df.dropna(inplace=True)\n",
        "\n",
        "# 9. Split into features/target\n",
        "X = df.drop(\"Salary\", axis=1)\n",
        "y = df[\"Salary\"]\n",
        "\n",
        "# 10. Split Train-Test\n",
        "X_train, X_test, y_train, y_test = train_test_split(X, y, test_size=0.2, random_state=42)\n",
        "\n",
        "# 11. Scale\n",
        "scaler = StandardScaler()\n",
        "X_train_scaled = scaler.fit_transform(X_train)\n",
        "X_test_scaled = scaler.transform(X_test)\n",
        "\n",
        "# 12. Train KNN Model\n",
        "model = KNeighborsRegressor(n_neighbors=1)\n",
        "model.fit(X_train_scaled, y_train)\n",
        "\n",
        "# 13. Save Artifacts\n",
        "joblib.dump(model, \"Models/SP_model.pkl\")\n",
        "joblib.dump(scaler, \"Models/SP_scaler.pkl\")\n",
        "joblib.dump(X.columns.tolist(), \"Models/SP_columns.pkl\")\n",
        "joblib.dump(edu_encoder, \"Models/SP_edu_encoder.pkl\")\n",
        "\n",
        "# 14. Evaluate\n",
        "y_pred = model.predict(X_test_scaled)\n",
        "mae = mean_absolute_error(y_test, y_pred)\n",
        "r2 = r2_score(y_test, y_pred)\n",
        "\n",
        "print(f\"✅ Model Trained\")\n",
        "print(f\"🔍 MAE: ${mae:,.2f}\")\n",
        "print(f\"📈 R² Score: {r2:.2f}\")\n"
      ],
      "metadata": {
        "id": "Gft83UONM_2h"
      },
      "execution_count": null,
      "outputs": []
    },
    {
      "cell_type": "code",
      "source": [],
      "metadata": {
        "id": "c1vtdFUKNATy"
      },
      "execution_count": null,
      "outputs": []
    }
  ]
}